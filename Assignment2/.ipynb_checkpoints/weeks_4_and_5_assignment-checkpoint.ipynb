{
 "cells": [
  {
   "cell_type": "markdown",
   "metadata": {
    "colab_type": "text",
    "id": "TSXuZhUcyvhd"
   },
   "source": [
    "**SOW-MKI49: Neural Information Processing Systems**  \n",
    "*Weeks 4 and 5: Assignment (225 points + 30 bonus points)*  \n",
    "Author: Umut"
   ]
  },
  {
   "cell_type": "markdown",
   "metadata": {
    "colab": {},
    "colab_type": "code",
    "id": "hP3SeQrNyrLC"
   },
   "source": [
    "Group number: 25  \n",
    "Felicity Reddel, s4830717  \n",
    "Max Reddel, s4830709  \n",
    "Johan van den Heuvel, s4770528"
   ]
  },
  {
   "cell_type": "code",
   "execution_count": 2,
   "metadata": {
    "colab": {},
    "colab_type": "code",
    "id": "n6Dbkc4t0LNa"
   },
   "outputs": [],
   "source": [
    "from chainer import ChainList, optimizers, serializers\n",
    "import chainer\n",
    "import chainer.functions as F\n",
    "import chainer.links as L\n",
    "import numpy as np\n",
    "\n",
    "import sys"
   ]
  },
  {
   "cell_type": "code",
   "execution_count": 1,
   "metadata": {},
   "outputs": [
    {
     "name": "stdout",
     "output_type": "stream",
     "text": [
      "['', '/home/johan/anaconda3/envs/python2/lib/python27.zip', '/home/johan/anaconda3/envs/python2/lib/python2.7', '/home/johan/anaconda3/envs/python2/lib/python2.7/plat-linux2', '/home/johan/anaconda3/envs/python2/lib/python2.7/lib-tk', '/home/johan/anaconda3/envs/python2/lib/python2.7/lib-old', '/home/johan/anaconda3/envs/python2/lib/python2.7/lib-dynload', '/home/johan/anaconda3/envs/python2/lib/python2.7/site-packages', '/home/johan/anaconda3/envs/python2/lib/python2.7/site-packages/IPython/extensions', '/home/johan/.ipython']\n"
     ]
    }
   ],
   "source": [
    "import sys\n",
    "sys.path\n",
    "print(sys.path) \n",
    "sys.path.append('../midi')\n",
    "\n",
    "import midi\n",
    "from midi import utils"
   ]
  },
  {
   "cell_type": "markdown",
   "metadata": {
    "colab_type": "text",
    "id": "RdDhV9ro3HS6"
   },
   "source": [
    "**WaveNet component (75 points)**\n",
    "\n",
    "* Implement missing parts of the call method (y and z). **25 points**\n",
    "* Implement residual block class. **50 points**\n",
    "\n",
    "---\n",
    "Reminder:\n",
    "\n",
    "* One convolution layer that has 61 kernels of size 2 with no nonlinearities.\n",
    "\n",
    "![alt text](http://i67.tinypic.com/21mgi2w.png)\n",
    "![alt text](http://i67.tinypic.com/292n04y.png)\n",
    "---\n",
    "\n"
   ]
  },
  {
   "cell_type": "code",
   "execution_count": 3,
   "metadata": {
    "colab": {},
    "colab_type": "code",
    "id": "xZsQTKPI3Fcy"
   },
   "outputs": [],
   "source": [
    "class _WaveNet(ChainList):\n",
    "    def __init__(self):\n",
    "        links = (L.Convolution2D(61, 61, (1, 2)),) \n",
    "        links += tuple(_ResidualBlock((1, 2 ** (i % 6))) for i in range(6)) # T6 layers\n",
    "        links += (L.Convolution2D(512, 512, 1), L.Convolution2D(512, 3843, 1)) # 1 and 2 layers\n",
    "\n",
    "        super(_WaveNet, self).__init__(*links)\n",
    "        \n",
    "\n",
    "    def __call__(self, x):\n",
    "#         print('WaveNet call')\n",
    "        y = self[0](F.pad(x, ((0, 0), (0, 0), (0, 0), (1, 0)), 'constant')) # The output of this layer becomes the input of the next layer\n",
    "        z = 0\n",
    "\n",
    "        for i in range(1, len(self) - 2):\n",
    "        #TODO    \n",
    "            skip_x, res_x = self[i](y)\n",
    "            y = res_x\n",
    "            z += skip_x\n",
    "            \n",
    "        \n",
    "        h = F.relu(z)\n",
    "        h = self[len(self)-2](h)\n",
    "        h = F.relu(h)\n",
    "        h = self[len(self)-1](h)\n",
    "    \n",
    "        \n",
    "        z, y = F.split_axis(h, (2*61,), 1)\n",
    "        \n",
    "#         print('WaveNet done')\n",
    "\n",
    "        return F.reshape(y, (y.shape[0], 61, 61, y.shape[3])), \\\n",
    "               F.reshape(z, (z.shape[0], 2, 61, z.shape[3]))\n",
    "\n",
    "class _ResidualBlock(ChainList):    \n",
    "    def __init__(self, dilationFactor): # what parameter is this\n",
    "\n",
    "        links = (L.DilatedConvolution2D(None, 122, (1,1), dilate=dilationFactor),)\n",
    "        links += (L.Convolution2D(None, 512 + 61,(1,1)),)\n",
    "        \n",
    "        super(_ResidualBlock, self).__init__(*links)\n",
    "        \n",
    "    def __call__(self, x):\n",
    "#         print('Residual call')\n",
    "        saved_x = x\n",
    "        \n",
    "        h = self[0](x)\n",
    "        h = F.split_axis(h, 2, 1)       \n",
    "        x = F.tanh(h[0]) * F.sigmoid(h[1])\n",
    "        \n",
    "        res_x, skip_x = F.split_axis(self[1](x), (61,), 1)\n",
    "        \n",
    "        res_x += saved_x\n",
    "        \n",
    "#         print('Residual done')\n",
    "        \n",
    "        return skip_x, res_x"
   ]
  },
  {
   "cell_type": "markdown",
   "metadata": {
    "colab_type": "text",
    "id": "SFoUw1ve3wGY"
   },
   "source": [
    "**CRF-RNN component (50 points)**\n",
    "\n",
    "* Implement missing parts of the call method (z). **25 points**\n",
    "* Why is z not normalized in the last iteration? **25 points**\n",
    "\n",
    "---\n",
    "\n",
    "Reminder:\n",
    "\n",
    "![alt text](http://i68.tinypic.com/sy6mix.png)\n",
    "\n",
    "---"
   ]
  },
  {
   "cell_type": "code",
   "execution_count": 4,
   "metadata": {
    "colab": {},
    "colab_type": "code",
    "id": "dV1Pd5l3w2ge"
   },
   "outputs": [],
   "source": [
    "class _CRF(ChainList):\n",
    "    def __init__(self):\n",
    "        super(_CRF, self).__init__(L.ConvolutionND(1, 2, 2, 1, nobias = True))\n",
    "\n",
    "    def __call__(self, x, y):\n",
    "        #TODO\n",
    "#         print('CRF call')\n",
    "        z = y\n",
    "#         print(x.shape)\n",
    "#         print(y.shape)\n",
    "\n",
    "        for i in range(5):\n",
    "#             print(i)\n",
    "            # multiply N*61*61 by N*2*61 and result is N*2*61\n",
    "            # so should be 2*61 X 61*61 or 61*61 X (2*61)T\n",
    "#             print(type(z), ' ', type(x))\n",
    "            shape = z.shape\n",
    "            x = F.reshape(x, (-1, 61, 61)) # copied from forum\n",
    "            z = F.reshape(z, (-1, 2, 61))\n",
    "            z = F.matmul(z,x) # message passing layer \n",
    "            \n",
    "            \n",
    "#             print(z.shape)\n",
    "            z = self[0](z) #comp\n",
    "            z = F.reshape(z, shape) # fit the y shape again\n",
    "            z = - y - z # local update and norm\n",
    "\n",
    "            if i < 4:\n",
    "                z = F.softmax(z)\n",
    "\n",
    "#         print('CRF done')        \n",
    "                \n",
    "        return z"
   ]
  },
  {
   "cell_type": "markdown",
   "metadata": {},
   "source": [
    "TODO why is z not normalized"
   ]
  },
  {
   "cell_type": "markdown",
   "metadata": {
    "colab_type": "text",
    "id": "BvbxbgS64Z1Y"
   },
   "source": [
    "**WaveCRF model (50 points)**\n",
    "\n",
    "1. Implement missing parts of the call method (k, psi_u and Q_hat). **20 points**\n",
    "2. Implement missing parts of the save and load methods (save and load model). **10 points**\n",
    "3. Implement missing parts of the test and train methods (forward and/or backward propagate). **20 points**"
   ]
  },
  {
   "cell_type": "code",
   "execution_count": 5,
   "metadata": {
    "colab": {},
    "colab_type": "code",
    "id": "ACORyKorw_T1"
   },
   "outputs": [],
   "source": [
    "class WaveCRF(object):\n",
    "    def __init__(self):\n",
    "        self.log = {('test', 'accuracy'): (), ('test', 'loss'): (), ('training', 'accuracy'): (),\n",
    "                    ('training', 'loss'): ()}\n",
    "        self.model = ChainList(_WaveNet(), _CRF())\n",
    "        self.optimizer = optimizers.Adam(0.0002, 0.5)\n",
    "\n",
    "        self.optimizer.setup(self.model)\n",
    "\n",
    "    def __call__(self, x):\n",
    "        #TODO\n",
    "        k, psi_u = self.model[0](x) # _WaveNet outputs k and psi\n",
    "        Q_hat = self.model[1](k, psi_u) # _CRF outputs Q?\n",
    "        print(Q_hat.shape)\n",
    "\n",
    "        return F.transpose(F.reshape(Q_hat, (x.shape[0], x.shape[3], 2, 61)), (0, 2, 3, 1))\n",
    "\n",
    "    @classmethod\n",
    "    def load(cls, directory):\n",
    "        self = cls()\n",
    "        self.log = np.load('{}/log.npy'.format(directory))\n",
    "\n",
    "        #TODO\n",
    "        serializers.load_npz('{:s}/model.npz'.format(directory), self.model) # Load model\n",
    "        serializers.load_npz('{}/optimizer.npz'.format(directory), self.optimizer)\n",
    "\n",
    "        return self\n",
    "\n",
    "    def save(self, directory):\n",
    "        np.save('{}/log.npy'.format(directory), self.log)\n",
    "        \n",
    "        #TODO\n",
    "        serializers.save_npz('{:s}/model.npz'.format(directory), self.model) # Save model\n",
    "        serializers.save_npz('{}/optimizer.npz'.format(directory), self.optimizer)\n",
    "\n",
    "    def test(self, Q, x):\n",
    "        with chainer.using_config('train', False):\n",
    "            #TODO\n",
    "            a,b = self.model.__getitem__(0)(x) # Forward prop\n",
    "            Q_hat = self.model.__getitem__(1)(a,b)\n",
    "            loss = F.softmax_cross_entropy(Q_hat, Q)# Forward prop\n",
    "\n",
    "            self.log['test', 'accuracy'] += (float(F.accuracy(Q_hat, Q).data),)\n",
    "            self.log['test', 'loss'] += (float(loss.data),)\n",
    "\n",
    "    def train(self, Q, x):\n",
    "        #TODO\n",
    "        # fix wacky hack\n",
    "#         print(self.model.__getitem__(0).__call__(x)) # This line removes error for call\n",
    "#         print(help(ChainList))\n",
    "\n",
    "        a,b = self.model.__getitem__(0)(x) # Forward prop\n",
    "        Q_hat = self.model.__getitem__(1)(a,b)\n",
    "        loss = F.softmax_cross_entropy(Q_hat, Q)# Forward prop\n",
    "#         print(\"loss: \", loss)\n",
    "\n",
    "        #TODO\n",
    "        self.model.cleargrads() # Backprop\n",
    "        loss.backward() # Backprop\n",
    "        self.optimizer.update() # Backprop\n",
    "\n",
    "        self.log['training', 'accuracy'] += (float(F.accuracy(Q_hat, Q).data),)\n",
    "        self.log['training', 'loss'] += (float(loss.data),)"
   ]
  },
  {
   "cell_type": "code",
   "execution_count": 7,
   "metadata": {
    "colab": {},
    "colab_type": "code",
    "id": "sN6H9URT926N"
   },
   "outputs": [],
   "source": [
    "%matplotlib inline\n",
    "\n",
    "import IPython\n",
    "import chainer\n",
    "import matplotlib\n",
    "import numpy\n",
    "import os\n",
    "import pickle\n",
    "import random\n",
    "import tqdm"
   ]
  },
  {
   "cell_type": "code",
   "execution_count": 8,
   "metadata": {},
   "outputs": [
    {
     "ename": "ValueError",
     "evalue": "unsupported pickle protocol: 4",
     "output_type": "error",
     "traceback": [
      "\u001b[0;31m---------------------------------------------------------------------------\u001b[0m",
      "\u001b[0;31mValueError\u001b[0m                                Traceback (most recent call last)",
      "\u001b[0;32m<ipython-input-8-f3dfddbb2d33>\u001b[0m in \u001b[0;36m<module>\u001b[0;34m()\u001b[0m\n\u001b[1;32m      3\u001b[0m \u001b[0mroot\u001b[0m \u001b[0;34m=\u001b[0m \u001b[0;34m'..'\u001b[0m\u001b[0;34m\u001b[0m\u001b[0m\n\u001b[1;32m      4\u001b[0m \u001b[0;32mwith\u001b[0m \u001b[0mopen\u001b[0m\u001b[0;34m(\u001b[0m\u001b[0;34m'{}/Assignment2/piano_rolls.p'\u001b[0m\u001b[0;34m.\u001b[0m\u001b[0mformat\u001b[0m\u001b[0;34m(\u001b[0m\u001b[0mroot\u001b[0m\u001b[0;34m)\u001b[0m\u001b[0;34m,\u001b[0m \u001b[0;34m'rb'\u001b[0m\u001b[0;34m)\u001b[0m \u001b[0;32mas\u001b[0m \u001b[0mf\u001b[0m\u001b[0;34m:\u001b[0m\u001b[0;34m\u001b[0m\u001b[0m\n\u001b[0;32m----> 5\u001b[0;31m     \u001b[0mpiano_rolls\u001b[0m \u001b[0;34m=\u001b[0m \u001b[0mpickle\u001b[0m\u001b[0;34m.\u001b[0m\u001b[0mload\u001b[0m\u001b[0;34m(\u001b[0m\u001b[0mf\u001b[0m\u001b[0;34m)\u001b[0m\u001b[0;34m\u001b[0m\u001b[0m\n\u001b[0m",
      "\u001b[0;32m/home/johan/anaconda3/envs/python2/lib/python2.7/pickle.pyc\u001b[0m in \u001b[0;36mload\u001b[0;34m(file)\u001b[0m\n\u001b[1;32m   1382\u001b[0m \u001b[0;34m\u001b[0m\u001b[0m\n\u001b[1;32m   1383\u001b[0m \u001b[0;32mdef\u001b[0m \u001b[0mload\u001b[0m\u001b[0;34m(\u001b[0m\u001b[0mfile\u001b[0m\u001b[0;34m)\u001b[0m\u001b[0;34m:\u001b[0m\u001b[0;34m\u001b[0m\u001b[0m\n\u001b[0;32m-> 1384\u001b[0;31m     \u001b[0;32mreturn\u001b[0m \u001b[0mUnpickler\u001b[0m\u001b[0;34m(\u001b[0m\u001b[0mfile\u001b[0m\u001b[0;34m)\u001b[0m\u001b[0;34m.\u001b[0m\u001b[0mload\u001b[0m\u001b[0;34m(\u001b[0m\u001b[0;34m)\u001b[0m\u001b[0;34m\u001b[0m\u001b[0m\n\u001b[0m\u001b[1;32m   1385\u001b[0m \u001b[0;34m\u001b[0m\u001b[0m\n\u001b[1;32m   1386\u001b[0m \u001b[0;32mdef\u001b[0m \u001b[0mloads\u001b[0m\u001b[0;34m(\u001b[0m\u001b[0mstr\u001b[0m\u001b[0;34m)\u001b[0m\u001b[0;34m:\u001b[0m\u001b[0;34m\u001b[0m\u001b[0m\n",
      "\u001b[0;32m/home/johan/anaconda3/envs/python2/lib/python2.7/pickle.pyc\u001b[0m in \u001b[0;36mload\u001b[0;34m(self)\u001b[0m\n\u001b[1;32m    862\u001b[0m             \u001b[0;32mwhile\u001b[0m \u001b[0;36m1\u001b[0m\u001b[0;34m:\u001b[0m\u001b[0;34m\u001b[0m\u001b[0m\n\u001b[1;32m    863\u001b[0m                 \u001b[0mkey\u001b[0m \u001b[0;34m=\u001b[0m \u001b[0mread\u001b[0m\u001b[0;34m(\u001b[0m\u001b[0;36m1\u001b[0m\u001b[0;34m)\u001b[0m\u001b[0;34m\u001b[0m\u001b[0m\n\u001b[0;32m--> 864\u001b[0;31m                 \u001b[0mdispatch\u001b[0m\u001b[0;34m[\u001b[0m\u001b[0mkey\u001b[0m\u001b[0;34m]\u001b[0m\u001b[0;34m(\u001b[0m\u001b[0mself\u001b[0m\u001b[0;34m)\u001b[0m\u001b[0;34m\u001b[0m\u001b[0m\n\u001b[0m\u001b[1;32m    865\u001b[0m         \u001b[0;32mexcept\u001b[0m \u001b[0m_Stop\u001b[0m\u001b[0;34m,\u001b[0m \u001b[0mstopinst\u001b[0m\u001b[0;34m:\u001b[0m\u001b[0;34m\u001b[0m\u001b[0m\n\u001b[1;32m    866\u001b[0m             \u001b[0;32mreturn\u001b[0m \u001b[0mstopinst\u001b[0m\u001b[0;34m.\u001b[0m\u001b[0mvalue\u001b[0m\u001b[0;34m\u001b[0m\u001b[0m\n",
      "\u001b[0;32m/home/johan/anaconda3/envs/python2/lib/python2.7/pickle.pyc\u001b[0m in \u001b[0;36mload_proto\u001b[0;34m(self)\u001b[0m\n\u001b[1;32m    890\u001b[0m         \u001b[0mproto\u001b[0m \u001b[0;34m=\u001b[0m \u001b[0mord\u001b[0m\u001b[0;34m(\u001b[0m\u001b[0mself\u001b[0m\u001b[0;34m.\u001b[0m\u001b[0mread\u001b[0m\u001b[0;34m(\u001b[0m\u001b[0;36m1\u001b[0m\u001b[0;34m)\u001b[0m\u001b[0;34m)\u001b[0m\u001b[0;34m\u001b[0m\u001b[0m\n\u001b[1;32m    891\u001b[0m         \u001b[0;32mif\u001b[0m \u001b[0;32mnot\u001b[0m \u001b[0;36m0\u001b[0m \u001b[0;34m<=\u001b[0m \u001b[0mproto\u001b[0m \u001b[0;34m<=\u001b[0m \u001b[0;36m2\u001b[0m\u001b[0;34m:\u001b[0m\u001b[0;34m\u001b[0m\u001b[0m\n\u001b[0;32m--> 892\u001b[0;31m             \u001b[0;32mraise\u001b[0m \u001b[0mValueError\u001b[0m\u001b[0;34m,\u001b[0m \u001b[0;34m\"unsupported pickle protocol: %d\"\u001b[0m \u001b[0;34m%\u001b[0m \u001b[0mproto\u001b[0m\u001b[0;34m\u001b[0m\u001b[0m\n\u001b[0m\u001b[1;32m    893\u001b[0m     \u001b[0mdispatch\u001b[0m\u001b[0;34m[\u001b[0m\u001b[0mPROTO\u001b[0m\u001b[0;34m]\u001b[0m \u001b[0;34m=\u001b[0m \u001b[0mload_proto\u001b[0m\u001b[0;34m\u001b[0m\u001b[0m\n\u001b[1;32m    894\u001b[0m \u001b[0;34m\u001b[0m\u001b[0m\n",
      "\u001b[0;31mValueError\u001b[0m: unsupported pickle protocol: 4"
     ]
    }
   ],
   "source": [
    "import pickle\n",
    "import numpy\n",
    "root = '..'\n",
    "with open('{}/Assignment2/piano_rolls.p'.format(root), 'rb') as f:\n",
    "    piano_rolls = pickle.load(f)"
   ]
  },
  {
   "cell_type": "code",
   "execution_count": 9,
   "metadata": {
    "colab": {},
    "colab_type": "code",
    "id": "_tS3Y0yWwb3r"
   },
   "outputs": [],
   "source": [
    "batch_size = 30\n",
    "epochs = 10\n",
    "root = '..'"
   ]
  },
  {
   "cell_type": "code",
   "execution_count": null,
   "metadata": {
    "colab": {},
    "colab_type": "code",
    "id": "VRcSp6shwg_Y"
   },
   "outputs": [],
   "source": [
    "with open('{}/Assignment2/piano_rolls.p'.format(root), 'rb') as f:\n",
    "    piano_rolls = pickle.load(f)\n",
    "\n",
    "keys = sorted(piano_rolls.keys())\n",
    "\n",
    "random.seed(6)\n",
    "random.shuffle(keys)\n",
    "\n",
    "test_set = dict((key, piano_rolls[key]) for key in keys[:int(0.1 * len(keys))])\n",
    "training_set = dict((key, piano_rolls[key]) for key in keys[int(0.1 * len(keys)):])\n",
    "training_set_keys = list(training_set.keys())"
   ]
  },
  {
   "cell_type": "code",
   "execution_count": 14,
   "metadata": {
    "colab": {},
    "colab_type": "code",
    "id": "YUVzWwIJwjQ7"
   },
   "outputs": [],
   "source": [
    "waveCRF = WaveCRF()\n",
    "\n",
    "# waveCRF.model.to_gpu()"
   ]
  },
  {
   "cell_type": "code",
   "execution_count": null,
   "metadata": {
    "colab": {},
    "colab_type": "code",
    "id": "4zWuKZ1EwlKa"
   },
   "outputs": [],
   "source": [
    "for epoch in tqdm.tnrange(epochs):\n",
    "    random.shuffle(training_set_keys)\n",
    "\n",
    "    batch = ()\n",
    "\n",
    "    for key in tqdm.tqdm_notebook(training_set_keys, leave = False):\n",
    "        i = random.randint(0, training_set[key].shape[1] - 80)\n",
    "        batch += (training_set[key][32 : 93, i : i + 80],)\n",
    "\n",
    "        if len(batch) == batch_size:\n",
    "            batch = waveCRF.model.xp.array(batch)\n",
    "#             print(batch.shape)\n",
    "            waveCRF.train(batch[:, :, 1:].astype('i'), batch[:, :, None, :-1].astype('f'))\n",
    "\n",
    "            batch = ()\n",
    "\n",
    "    for key in tqdm.tqdm_notebook(test_set, leave = False):\n",
    "        batch = waveCRF.model.xp.array((test_set[key][32 : 93],))\n",
    "#         print(batch.shape)\n",
    "        waveCRF.test(batch[:, :, 1:].astype('i'), batch[:, :, None, :-1].astype('f'))\n",
    "\n",
    "    IPython.display.clear_output()\n",
    "\n",
    "    for i, key in enumerate(waveCRF.log):\n",
    "        matplotlib.pyplot.subplot(221 + i)\n",
    "        matplotlib.pyplot.plot(numpy.array(waveCRF.log[key]).reshape(epoch + 1, -1).mean(1))\n",
    "        matplotlib.pyplot.xlabel('iteration')\n",
    "        matplotlib.pyplot.ylabel(key)\n",
    "\n",
    "    matplotlib.pyplot.tight_layout()\n",
    "    matplotlib.pyplot.show()\n",
    "    os.makedirs('{}/Models/WaveCRF/{}'.format(root, epoch))\n",
    "    waveCRF.save('{}/Models/WaveCRF/{}'.format(root, epoch))"
   ]
  },
  {
   "cell_type": "markdown",
   "metadata": {
    "colab_type": "text",
    "id": "NqNHKCblzY52"
   },
   "source": [
    "**Test (50 points)**  \n",
    "\n",
    "* Generate a number of samples, pick the best one and play it in the notebook. **50 points**"
   ]
  },
  {
   "cell_type": "code",
   "execution_count": 45,
   "metadata": {
    "colab": {},
    "colab_type": "code",
    "id": "6PGOJ_hHzZDg"
   },
   "outputs": [
    {
     "ename": "NameError",
     "evalue": "name 'test_set' is not defined",
     "output_type": "error",
     "traceback": [
      "\u001b[0;31m---------------------------------------------------------------------------\u001b[0m",
      "\u001b[0;31mNameError\u001b[0m                                 Traceback (most recent call last)",
      "\u001b[0;32m<ipython-input-45-4624b350befe>\u001b[0m in \u001b[0;36m<module>\u001b[0;34m()\u001b[0m\n\u001b[1;32m      2\u001b[0m \u001b[0;31m# Test\u001b[0m\u001b[0;34m\u001b[0m\u001b[0;34m\u001b[0m\u001b[0m\n\u001b[1;32m      3\u001b[0m \u001b[0mWaveCRF\u001b[0m\u001b[0;34m.\u001b[0m\u001b[0mload\u001b[0m\u001b[0;34m(\u001b[0m\u001b[0;34m'Models/{}'\u001b[0m\u001b[0;34m.\u001b[0m\u001b[0mformat\u001b[0m\u001b[0;34m(\u001b[0m\u001b[0;36m25\u001b[0m\u001b[0;34m)\u001b[0m\u001b[0;34m)\u001b[0m\u001b[0;34m\u001b[0m\u001b[0m\n\u001b[0;32m----> 4\u001b[0;31m \u001b[0mbatch\u001b[0m \u001b[0;34m=\u001b[0m \u001b[0mwaveCRF\u001b[0m\u001b[0;34m.\u001b[0m\u001b[0mmodel\u001b[0m\u001b[0;34m.\u001b[0m\u001b[0mxp\u001b[0m\u001b[0;34m.\u001b[0m\u001b[0marray\u001b[0m\u001b[0;34m(\u001b[0m\u001b[0;34m(\u001b[0m\u001b[0mtest_set\u001b[0m\u001b[0;34m[\u001b[0m\u001b[0;34m'006606B_/1_0_7_0'\u001b[0m\u001b[0;34m]\u001b[0m\u001b[0;34m[\u001b[0m\u001b[0;36m32\u001b[0m \u001b[0;34m:\u001b[0m \u001b[0;36m93\u001b[0m\u001b[0;34m]\u001b[0m\u001b[0;34m,\u001b[0m\u001b[0;34m)\u001b[0m\u001b[0;34m)\u001b[0m\u001b[0;34m\u001b[0m\u001b[0m\n\u001b[0m\u001b[1;32m      5\u001b[0m \u001b[0;32mprint\u001b[0m\u001b[0;34m(\u001b[0m\u001b[0mbatch\u001b[0m\u001b[0;34m.\u001b[0m\u001b[0mshape\u001b[0m\u001b[0;34m)\u001b[0m\u001b[0;34m\u001b[0m\u001b[0m\n\u001b[1;32m      6\u001b[0m \u001b[0moutput\u001b[0m \u001b[0;34m=\u001b[0m \u001b[0mwaveCRF\u001b[0m\u001b[0;34m(\u001b[0m\u001b[0mbatch\u001b[0m\u001b[0;34m[\u001b[0m\u001b[0;34m:\u001b[0m\u001b[0;34m,\u001b[0m \u001b[0;34m:\u001b[0m\u001b[0;34m,\u001b[0m \u001b[0mNone\u001b[0m\u001b[0;34m,\u001b[0m \u001b[0;34m:\u001b[0m\u001b[0;34m-\u001b[0m\u001b[0;36m1\u001b[0m\u001b[0;34m]\u001b[0m\u001b[0;34m.\u001b[0m\u001b[0mastype\u001b[0m\u001b[0;34m(\u001b[0m\u001b[0;34m'f'\u001b[0m\u001b[0;34m)\u001b[0m\u001b[0;34m)\u001b[0m\u001b[0;34m\u001b[0m\u001b[0m\n",
      "\u001b[0;31mNameError\u001b[0m: name 'test_set' is not defined"
     ]
    }
   ],
   "source": [
    "#TODO\n",
    "# Test\n",
    "WaveCRF.load('Models/{}'.format(25))\n",
    "batch = waveCRF.model.xp.array((test_set['006606B_/1_0_7_0'][32 : 93],))\n",
    "print(batch.shape)\n",
    "output = waveCRF(batch[:, :, None, :-1].astype('f'))\n",
    "normalized_output = F.softmax(output)"
   ]
  },
  {
   "cell_type": "code",
   "execution_count": 49,
   "metadata": {},
   "outputs": [
    {
     "name": "stdout",
     "output_type": "stream",
     "text": [
      "(1, 2, 61, 1)\n",
      "(1, 2, 61, 1)\n",
      "(1, 2, 61, 1)\n",
      "(1, 2, 61, 1)\n",
      "(1, 2, 61, 1)\n",
      "(1, 2, 61, 1)\n",
      "(1, 2, 61, 1)\n",
      "(1, 2, 61, 1)\n",
      "(1, 2, 61, 1)\n",
      "(1, 2, 61, 1)\n",
      "(1, 2, 61, 1)\n",
      "(1, 2, 61, 1)\n",
      "(1, 2, 61, 1)\n",
      "(1, 2, 61, 1)\n",
      "(1, 2, 61, 1)\n",
      "(1, 2, 61, 1)\n",
      "(1, 2, 61, 1)\n",
      "(1, 2, 61, 1)\n",
      "(1, 2, 61, 1)\n",
      "(1, 2, 61, 1)\n",
      "(1, 2, 61, 1)\n",
      "(1, 2, 61, 1)\n",
      "(1, 2, 61, 1)\n",
      "(1, 2, 61, 1)\n",
      "(1, 2, 61, 1)\n",
      "(1, 2, 61, 1)\n",
      "(1, 2, 61, 1)\n",
      "(1, 2, 61, 1)\n",
      "(1, 2, 61, 1)\n",
      "(1, 2, 61, 1)\n",
      "(1, 2, 61, 1)\n",
      "(1, 2, 61, 1)\n",
      "(1, 2, 61, 1)\n",
      "(1, 2, 61, 1)\n",
      "(1, 2, 61, 1)\n",
      "(1, 2, 61, 1)\n",
      "(1, 2, 61, 1)\n",
      "(1, 2, 61, 1)\n",
      "(1, 2, 61, 1)\n",
      "(1, 2, 61, 1)\n",
      "(1, 2, 61, 1)\n",
      "(1, 2, 61, 1)\n",
      "(1, 2, 61, 1)\n",
      "(1, 2, 61, 1)\n",
      "(1, 2, 61, 1)\n",
      "(1, 2, 61, 1)\n",
      "(1, 2, 61, 1)\n",
      "(1, 2, 61, 1)\n",
      "(1, 2, 61, 1)\n",
      "(1, 2, 61, 1)\n",
      "(1, 2, 61, 1)\n",
      "(1, 2, 61, 1)\n",
      "(1, 2, 61, 1)\n",
      "(1, 2, 61, 1)\n",
      "(1, 2, 61, 1)\n",
      "(1, 2, 61, 1)\n",
      "(1, 2, 61, 1)\n",
      "(1, 2, 61, 1)\n",
      "(1, 2, 61, 1)\n",
      "(1, 2, 61, 1)\n",
      "(1, 2, 61, 1)\n",
      "(1, 2, 61, 1)\n",
      "(1, 2, 61, 1)\n",
      "(1, 2, 61, 1)\n",
      "(1, 2, 61, 1)\n",
      "(1, 2, 61, 1)\n",
      "(1, 2, 61, 1)\n",
      "(1, 2, 61, 1)\n",
      "(1, 2, 61, 1)\n",
      "(1, 2, 61, 1)\n",
      "(1, 2, 61, 1)\n",
      "(1, 2, 61, 1)\n",
      "(1, 2, 61, 1)\n",
      "(1, 2, 61, 1)\n",
      "(1, 2, 61, 1)\n",
      "(1, 2, 61, 1)\n",
      "(1, 2, 61, 1)\n",
      "(1, 2, 61, 1)\n",
      "(1, 2, 61, 1)\n",
      "(1, 2, 61, 1)\n",
      "(1, 2, 61, 1)\n",
      "(1, 2, 61, 1)\n",
      "(1, 2, 61, 1)\n",
      "(1, 2, 61, 1)\n",
      "(1, 2, 61, 1)\n",
      "(1, 2, 61, 1)\n",
      "(1, 2, 61, 1)\n",
      "(1, 2, 61, 1)\n",
      "(1, 2, 61, 1)\n",
      "(1, 2, 61, 1)\n",
      "(1, 2, 61, 1)\n",
      "(1, 2, 61, 1)\n",
      "(1, 2, 61, 1)\n",
      "(1, 2, 61, 1)\n",
      "(1, 2, 61, 1)\n",
      "(1, 2, 61, 1)\n",
      "(1, 2, 61, 1)\n",
      "(1, 2, 61, 1)\n",
      "(1, 2, 61, 1)\n",
      "(1, 2, 61, 1)\n",
      "(1, 2, 61, 1)\n",
      "(1, 61, 2)\n",
      "(2, 61, 1)\n"
     ]
    }
   ],
   "source": [
    "piano_roll = np.random.rand(61, 79) < .5 # let's randomly generate some piano roll with 61 notes and 79 time points\n",
    "\n",
    "x = np.random.rand(1, 61, 2) < .5\n",
    "y = waveCRF(x[:, :, None, :-1].astype('f'))\n",
    "y = F.softmax(y)\n",
    "print(x.shape)\n",
    "print(y[0].shape)\n",
    "# waveCRF(piano_roll[:, :, None, :-1].astype('f'))\n",
    "piano_roll = y.data\n",
    "x = utils.midiwrite('piano_roll.mid', piano_roll.T, (32, 93), 0.25) # 3rd arg is the start and end notes; 4rth arg is time between samples"
   ]
  },
  {
   "cell_type": "markdown",
   "metadata": {
    "colab_type": "text",
    "id": "qX69DLwW_yMx"
   },
   "source": [
    "**Bonus question (30 points)**\n",
    "\n",
    "* Discuss how you can improve the model (you can talk about different architectures or different ways to encode the inputs, etc.) **10 points**\n",
    "* Discuss the assumptions behind the meanfield approximation and its shortcomings. **10 points**\n",
    "* Prove that the iterative update equation (CRF-RNN component) is differentiable so that we can backpropagate through them. **10 points**"
   ]
  },
  {
   "cell_type": "markdown",
   "metadata": {},
   "source": [
    "TODO discussion"
   ]
  }
 ],
 "metadata": {
  "colab": {
   "name": "weeks_4_and_5_assignment.ipynb",
   "provenance": [],
   "version": "0.3.2"
  },
  "kernelspec": {
   "display_name": "Python 2",
   "language": "python",
   "name": "python2"
  },
  "language_info": {
   "codemirror_mode": {
    "name": "ipython",
    "version": 2
   },
   "file_extension": ".py",
   "mimetype": "text/x-python",
   "name": "python",
   "nbconvert_exporter": "python",
   "pygments_lexer": "ipython2",
   "version": "2.7.15"
  }
 },
 "nbformat": 4,
 "nbformat_minor": 2
}
