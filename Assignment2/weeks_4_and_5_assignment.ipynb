{
 "cells": [
  {
   "cell_type": "markdown",
   "metadata": {
    "colab_type": "text",
    "id": "TSXuZhUcyvhd"
   },
   "source": [
    "**SOW-MKI49: Neural Information Processing Systems**  \n",
    "*Weeks 4 and 5: Assignment (225 points + 30 bonus points)*  \n",
    "Author: Umut"
   ]
  },
  {
   "cell_type": "markdown",
   "metadata": {
    "colab": {},
    "colab_type": "code",
    "id": "hP3SeQrNyrLC"
   },
   "source": [
    "Group number: 25  \n",
    "Felicity Reddel, s4830717  \n",
    "Max Reddel, s4830709  \n",
    "Johan van den Heuvel, s4770528"
   ]
  },
  {
   "cell_type": "code",
   "execution_count": 1,
   "metadata": {
    "colab": {},
    "colab_type": "code",
    "id": "n6Dbkc4t0LNa"
   },
   "outputs": [],
   "source": [
    "from chainer import ChainList, optimizers, serializers\n",
    "import chainer\n",
    "import chainer.functions as F\n",
    "import chainer.links as L\n",
    "import numpy as np\n",
    "\n",
    "import sys"
   ]
  },
  {
   "cell_type": "code",
   "execution_count": 2,
   "metadata": {},
   "outputs": [],
   "source": [
    "# import sys\n",
    "# sys.path\n",
    "# print(sys.path) \n",
    "# sys.path.append('../midi')\n",
    "\n",
    "# import midi\n",
    "# from midi import utils"
   ]
  },
  {
   "cell_type": "markdown",
   "metadata": {
    "colab_type": "text",
    "id": "RdDhV9ro3HS6"
   },
   "source": [
    "**WaveNet component (75 points)**\n",
    "\n",
    "* Implement missing parts of the call method (y and z). **25 points**\n",
    "* Implement residual block class. **50 points**\n",
    "\n",
    "---\n",
    "Reminder:\n",
    "\n",
    "* One convolution layer that has 61 kernels of size 2 with no nonlinearities.\n",
    "\n",
    "![alt text](http://i67.tinypic.com/21mgi2w.png)\n",
    "![alt text](http://i67.tinypic.com/292n04y.png)\n",
    "---\n",
    "\n"
   ]
  },
  {
   "cell_type": "code",
   "execution_count": 3,
   "metadata": {
    "colab": {},
    "colab_type": "code",
    "id": "xZsQTKPI3Fcy"
   },
   "outputs": [],
   "source": [
    "class _WaveNet(ChainList):\n",
    "    def __init__(self):\n",
    "        links = (L.Convolution2D(61, 61, (1, 2)),) \n",
    "        links += tuple(_ResidualBlock((1, 2 ** (i % 6))) for i in range(6)) # T6 layers\n",
    "        links += (L.Convolution2D(512, 512, 1), L.Convolution2D(512, 3843, 1)) # 1 and 2 layers\n",
    "\n",
    "        super(_WaveNet, self).__init__(*links)\n",
    "        \n",
    "\n",
    "    def __call__(self, x):\n",
    "#         print('WaveNet call')\n",
    "        y = self[0](F.pad(x, ((0, 0), (0, 0), (0, 0), (1, 0)), 'constant')) # The output of this layer becomes the input of the next layer\n",
    "        z = 0\n",
    "\n",
    "        for i in range(1, len(self) - 2):\n",
    "        #TODO    \n",
    "            skip_x, res_x = self[i](y)\n",
    "            y = res_x\n",
    "            z += skip_x\n",
    "            \n",
    "        \n",
    "        h = F.relu(z)\n",
    "        h = self[len(self)-2](h)\n",
    "        h = F.relu(h)\n",
    "        h = self[len(self)-1](h)\n",
    "    \n",
    "        \n",
    "        z, y = F.split_axis(h, (2*61,), 1)\n",
    "        \n",
    "#         print('WaveNet done')\n",
    "\n",
    "        return F.reshape(y, (y.shape[0], 61, 61, y.shape[3])), \\\n",
    "               F.reshape(z, (z.shape[0], 2, 61, z.shape[3]))\n",
    "\n",
    "class _ResidualBlock(ChainList):    \n",
    "    def __init__(self, dilationFactor): # what parameter is this\n",
    "\n",
    "        links = (L.DilatedConvolution2D(None, 122, (1,1), dilate=dilationFactor),)\n",
    "        links += (L.Convolution2D(None, 512 + 61,(1,1)),)\n",
    "        \n",
    "        super(_ResidualBlock, self).__init__(*links)\n",
    "        \n",
    "    def __call__(self, x):\n",
    "#         print('Residual call')\n",
    "        saved_x = x\n",
    "        \n",
    "        h = self[0](x)\n",
    "        h = F.split_axis(h, 2, 1)       \n",
    "        x = F.tanh(h[0]) * F.sigmoid(h[1])\n",
    "        \n",
    "        res_x, skip_x = F.split_axis(self[1](x), (61,), 1)\n",
    "        \n",
    "        res_x += saved_x\n",
    "        \n",
    "#         print('Residual done')\n",
    "        \n",
    "        return skip_x, res_x"
   ]
  },
  {
   "cell_type": "markdown",
   "metadata": {
    "colab_type": "text",
    "id": "SFoUw1ve3wGY"
   },
   "source": [
    "**CRF-RNN component (50 points)**\n",
    "\n",
    "* Implement missing parts of the call method (z). **25 points**\n",
    "* Why is z not normalized in the last iteration? **25 points**\n",
    "\n",
    "---\n",
    "\n",
    "Reminder:\n",
    "\n",
    "![alt text](http://i68.tinypic.com/sy6mix.png)\n",
    "\n",
    "---"
   ]
  },
  {
   "cell_type": "code",
   "execution_count": 4,
   "metadata": {
    "colab": {},
    "colab_type": "code",
    "id": "dV1Pd5l3w2ge"
   },
   "outputs": [],
   "source": [
    "class _CRF(ChainList):\n",
    "    def __init__(self):\n",
    "        super(_CRF, self).__init__(L.ConvolutionND(1, 2, 2, 1, nobias = True))\n",
    "\n",
    "    def __call__(self, x, y):\n",
    "        #TODO\n",
    "#         print('CRF call')\n",
    "        z = y\n",
    "#         print(x.shape)\n",
    "#         print(y.shape)\n",
    "\n",
    "        for i in range(5):\n",
    "#             print(i)\n",
    "            # multiply N*61*61 by N*2*61 and result is N*2*61\n",
    "            # so should be 2*61 X 61*61 or 61*61 X (2*61)T\n",
    "#             print(type(z), ' ', type(x))\n",
    "            shape = z.shape\n",
    "            x = F.reshape(x, (-1, 61, 61)) # copied from forum\n",
    "            z = F.reshape(z, (-1, 2, 61))\n",
    "            z = F.matmul(z,x) # message passing layer \n",
    "            \n",
    "            \n",
    "#             print(z.shape)\n",
    "            z = self[0](z) #comp\n",
    "            z = F.reshape(z, shape) # fit the y shape again\n",
    "            z = - y - z # local update and norm\n",
    "\n",
    "            if i < 4:\n",
    "                z = F.softmax(z)\n",
    "\n",
    "#         print('CRF done')        \n",
    "                \n",
    "        return z"
   ]
  },
  {
   "cell_type": "markdown",
   "metadata": {},
   "source": [
    "# Why not normalizing z in last iteration?\n",
    "\n",
    "- Softmax -> probabilities (add up to 1)\n",
    "- What we want with Q, the mean field approximation: selecting a tone by choosing the highest value in Q. Normalizing the values would not change which one is the highest value. Thus, it is not necessary to normalize the values.\n",
    "\n",
    "### Sidenote: 'Why we want to normalize in all previous iterations:'  \n",
    "- In iterations 0-4, we want to feed back the current approximation (z). \n",
    "- In each iteration, we multiply the current approximation with x (= k = the pairwise output of the WaveNet component). \n",
    "- If the values in x are either very big or very small, naively multiplying the current approximation and later subtracting psi, could result in a \"vanishing z\". \n",
    "- This could potentially also lead to weird things as the subtraction of psi could result in negative values. These negative values would in the next iteration be multiplied with x. Then, bigger values in x would to This might even become negative and hence could randomly bounce around zero in the next rounds?)"
   ]
  },
  {
   "cell_type": "markdown",
   "metadata": {
    "colab_type": "text",
    "id": "BvbxbgS64Z1Y"
   },
   "source": [
    "**WaveCRF model (50 points)**\n",
    "\n",
    "1. Implement missing parts of the call method (k, psi_u and Q_hat). **20 points**\n",
    "2. Implement missing parts of the save and load methods (save and load model). **10 points**\n",
    "3. Implement missing parts of the test and train methods (forward and/or backward propagate). **20 points**"
   ]
  },
  {
   "cell_type": "code",
   "execution_count": 5,
   "metadata": {
    "colab": {},
    "colab_type": "code",
    "id": "ACORyKorw_T1"
   },
   "outputs": [],
   "source": [
    "class WaveCRF(object):\n",
    "    def __init__(self):\n",
    "        self.log = {('test', 'accuracy'): (), ('test', 'loss'): (), ('training', 'accuracy'): (),\n",
    "                    ('training', 'loss'): ()}\n",
    "        self.model = ChainList(_WaveNet(), _CRF())\n",
    "        self.optimizer = optimizers.Adam(0.0002, 0.5)\n",
    "\n",
    "        self.optimizer.setup(self.model)\n",
    "\n",
    "    def __call__(self, x):\n",
    "        #TODO\n",
    "        k, psi_u = self.model[0](x) # _WaveNet outputs k and psi\n",
    "        Q_hat = self.model[1](k, psi_u) # _CRF outputs Q?\n",
    "        print(Q_hat.shape)\n",
    "\n",
    "        return F.transpose(F.reshape(Q_hat, (x.shape[0], x.shape[3], 2, 61)), (0, 2, 3, 1))\n",
    "\n",
    "    @classmethod\n",
    "    def load(cls, directory):\n",
    "        self = cls()\n",
    "        self.log = np.load('{}/log.npy'.format(directory))\n",
    "\n",
    "        #TODO\n",
    "        serializers.load_npz('{:s}/model.npz'.format(directory), self.model) # Load model\n",
    "        serializers.load_npz('{}/optimizer.npz'.format(directory), self.optimizer)\n",
    "\n",
    "        return self\n",
    "\n",
    "    def save(self, directory):\n",
    "        np.save('{}/log.npy'.format(directory), self.log)\n",
    "        \n",
    "        #TODO\n",
    "        serializers.save_npz('{:s}/model.npz'.format(directory), self.model) # Save model\n",
    "        serializers.save_npz('{}/optimizer.npz'.format(directory), self.optimizer)\n",
    "\n",
    "    def test(self, Q, x):\n",
    "        with chainer.using_config('train', False):\n",
    "            #TODO\n",
    "            a,b = self.model.__getitem__(0)(x) # Forward prop\n",
    "            Q_hat = self.model.__getitem__(1)(a,b)\n",
    "            loss = F.softmax_cross_entropy(Q_hat, Q)# Forward prop\n",
    "\n",
    "            self.log['test', 'accuracy'] += (float(F.accuracy(Q_hat, Q).data),)\n",
    "            self.log['test', 'loss'] += (float(loss.data),)\n",
    "\n",
    "    def train(self, Q, x):\n",
    "        #TODO\n",
    "        # fix wacky hack\n",
    "#         print(self.model.__getitem__(0).__call__(x)) # This line removes error for call\n",
    "#         print(help(ChainList))\n",
    "\n",
    "        a,b = self.model.__getitem__(0)(x) # Forward prop\n",
    "        Q_hat = self.model.__getitem__(1)(a,b)\n",
    "        loss = F.softmax_cross_entropy(Q_hat, Q)# Forward prop\n",
    "#         print(\"loss: \", loss)\n",
    "\n",
    "        #TODO\n",
    "        self.model.cleargrads() # Backprop\n",
    "        loss.backward() # Backprop\n",
    "        self.optimizer.update() # Backprop\n",
    "\n",
    "        self.log['training', 'accuracy'] += (float(F.accuracy(Q_hat, Q).data),)\n",
    "        self.log['training', 'loss'] += (float(loss.data),)"
   ]
  },
  {
   "cell_type": "code",
   "execution_count": 6,
   "metadata": {
    "colab": {},
    "colab_type": "code",
    "id": "sN6H9URT926N"
   },
   "outputs": [],
   "source": [
    "%matplotlib inline\n",
    "\n",
    "import IPython\n",
    "import chainer\n",
    "import matplotlib\n",
    "import numpy\n",
    "import os\n",
    "import pickle\n",
    "import random\n",
    "import tqdm"
   ]
  },
  {
   "cell_type": "code",
   "execution_count": 7,
   "metadata": {},
   "outputs": [],
   "source": [
    "import pickle\n",
    "import numpy\n",
    "root = '..'\n",
    "with open('{}/Assignment2/piano_rolls.p'.format(root), 'rb') as f:\n",
    "    piano_rolls = pickle.load(f)"
   ]
  },
  {
   "cell_type": "code",
   "execution_count": 8,
   "metadata": {
    "colab": {},
    "colab_type": "code",
    "id": "_tS3Y0yWwb3r"
   },
   "outputs": [],
   "source": [
    "batch_size = 30\n",
    "epochs = 50\n",
    "root = '..'"
   ]
  },
  {
   "cell_type": "code",
   "execution_count": 9,
   "metadata": {
    "colab": {},
    "colab_type": "code",
    "id": "VRcSp6shwg_Y"
   },
   "outputs": [],
   "source": [
    "with open('{}/Assignment2/piano_rolls.p'.format(root), 'rb') as f:\n",
    "    piano_rolls = pickle.load(f)\n",
    "\n",
    "keys = sorted(piano_rolls.keys())\n",
    "\n",
    "random.seed(6)\n",
    "random.shuffle(keys)\n",
    "\n",
    "test_set = dict((key, piano_rolls[key]) for key in keys[:int(0.1 * len(keys))])\n",
    "training_set = dict((key, piano_rolls[key]) for key in keys[int(0.1 * len(keys)):])\n",
    "training_set_keys = list(training_set.keys())"
   ]
  },
  {
   "cell_type": "code",
   "execution_count": 10,
   "metadata": {
    "colab": {},
    "colab_type": "code",
    "id": "YUVzWwIJwjQ7"
   },
   "outputs": [
    {
     "data": {
      "text/plain": [
       "<chainer.link.ChainList at 0x7f9b5b443390>"
      ]
     },
     "execution_count": 10,
     "metadata": {},
     "output_type": "execute_result"
    }
   ],
   "source": [
    "waveCRF = WaveCRF()\n",
    "\n",
    "waveCRF.model.to_gpu()"
   ]
  },
  {
   "cell_type": "code",
   "execution_count": 11,
   "metadata": {
    "colab": {},
    "colab_type": "code",
    "id": "4zWuKZ1EwlKa"
   },
   "outputs": [
    {
     "data": {
      "image/png": "[encoded data removed]",
      "text/plain": [
       "<Figure size 432x288 with 4 Axes>"
      ]
     },
     "metadata": {
      "needs_background": "light"
     },
     "output_type": "display_data"
    },
    {
     "name": "stdout",
     "output_type": "stream",
     "text": [
      "\n"
     ]
    }
   ],
   "source": [
    "for epoch in tqdm.tnrange(epochs):\n",
    "    random.shuffle(training_set_keys)\n",
    "\n",
    "    batch = ()\n",
    "\n",
    "    for key in tqdm.tqdm_notebook(training_set_keys, leave = False):\n",
    "        i = random.randint(0, training_set[key].shape[1] - 80)\n",
    "        batch += (training_set[key][32 : 93, i : i + 80],)\n",
    "\n",
    "        if len(batch) == batch_size:\n",
    "            batch = waveCRF.model.xp.array(batch)\n",
    "#             print(batch.shape)\n",
    "            waveCRF.train(batch[:, :, 1:].astype('i'), batch[:, :, None, :-1].astype('f'))\n",
    "\n",
    "            batch = ()\n",
    "\n",
    "    for key in tqdm.tqdm_notebook(test_set, leave = False):\n",
    "        batch = waveCRF.model.xp.array((test_set[key][32 : 93],))\n",
    "#         print(batch.shape)\n",
    "        waveCRF.test(batch[:, :, 1:].astype('i'), batch[:, :, None, :-1].astype('f'))\n",
    "\n",
    "    IPython.display.clear_output()\n",
    "\n",
    "    for i, key in enumerate(waveCRF.log):\n",
    "        matplotlib.pyplot.subplot(221 + i)\n",
    "        matplotlib.pyplot.plot(numpy.array(waveCRF.log[key]).reshape(epoch + 1, -1).mean(1))\n",
    "        matplotlib.pyplot.xlabel('iteration')\n",
    "        matplotlib.pyplot.ylabel(key)\n",
    "\n",
    "    matplotlib.pyplot.tight_layout()\n",
    "    matplotlib.pyplot.show()\n",
    "    os.makedirs('{}/Models/WaveCRF/{}'.format(root, epoch))\n",
    "    waveCRF.save('{}/Models/WaveCRF/{}'.format(root, epoch))"
   ]
  },
  {
   "cell_type": "markdown",
   "metadata": {
    "colab_type": "text",
    "id": "NqNHKCblzY52"
   },
   "source": [
    "**Test (50 points)**  \n",
    "\n",
    "* Generate a number of samples, pick the best one and play it in the notebook. **50 points**"
   ]
  },
  {
   "cell_type": "code",
   "execution_count": 12,
   "metadata": {
    "colab": {},
    "colab_type": "code",
    "id": "6PGOJ_hHzZDg"
   },
   "outputs": [],
   "source": [
    "#TODO\n",
    "# Test\n",
    "# WaveCRF.load('Models/{}'.format(99))\n",
    "# batch = waveCRF.model.xp.array((test_set['006606B_/1_0_7_0'][32 : 93],))\n",
    "# print(batch.shape)\n",
    "# output = waveCRF(batch[:, :, None, :-1].astype('f'))\n",
    "# normalized_output = F.softmax(output)"
   ]
  },
  {
   "cell_type": "code",
   "execution_count": 13,
   "metadata": {},
   "outputs": [],
   "source": [
    "# piano_roll = np.random.rand(61, 79) < .5 # let's randomly generate some piano roll with 61 notes and 79 time points\n",
    "# x = np.random.rand(1, 61, 2) < .5\n",
    "# y = waveCRF(x[:, :, None, :-1].astype('f'))\n",
    "# print(x.shape)\n",
    "# print(y.shape)\n",
    "# # waveCRF(piano_roll[:, :, None, :-1].astype('f'))\n",
    "# x = utils.midiwrite('piano_roll.mid', piano_roll.T, (32, 93), 0.25) # 3rd arg is the start and end notes; 4rth arg is time between samples\n"
   ]
  },
  {
   "cell_type": "markdown",
   "metadata": {
    "colab_type": "text",
    "id": "qX69DLwW_yMx"
   },
   "source": [
    "**Bonus question (30 points)**\n",
    "\n",
    "* Discuss how you can improve the model (you can talk about different architectures or different ways to encode the inputs, etc.) **10 points**\n",
    "* Discuss the assumptions behind the meanfield approximation and its shortcomings. **10 points**\n",
    "* Prove that the iterative update equation (CRF-RNN component) is differentiable so that we can backpropagate through them. **10 points**"
   ]
  },
  {
   "cell_type": "markdown",
   "metadata": {},
   "source": [
    "## Model improvement suggestions\n",
    "\n",
    "We are surprised by the generated piano-rolls. They are all (almost) identical, start with many different parallel tones and over time, they seem to just decrease in volume. Probably some thing(s) went wrong but we couldn’t find yet what that is. Thus, from listening it seems like we didn’t gain much information on what might be improved about the network specifics.\n",
    "\n",
    "Generally, we could tackle different aspects:\n",
    "\n",
    "[Overfitting]\n",
    "Our model seems to overfit very quickly (after approximately 5 epochs already). We could try to apply different regularization techniques (e.g. dropout, L1 or L2).\n",
    "\n",
    "[‘Memory span’]\n",
    "If the produced piano roll doesn’t sound coherent over time, we could try to increase the ‘memory span’ of the network. This could be done either by increasing T (the amount of previous tones that are taken into account to predict the next note), by adapting the network architecture (e.g. increasing the number of residual blocks that we use or by potentially making use of other memory possibilities that are usually used in recurrent networks (LSTM, GRU cells and the like).\n",
    "\n",
    "[Decreasing volume over time]\n",
    "Maybe we could use normalization to avoid the decrease in volume over time. Or we could have each tone at the same volume.\n",
    "\n",
    "[Monophonic]\n",
    "Apparently, the quality of being monophonic was not learned. Maybe we could set restrictions in order to achieve that.\n",
    "\n",
    "\n",
    "## Mean Field Approximation – Assumptions and Shortcomings\n",
    "\n",
    "It follows from $Eq. 1$ (see below) that main assumption of the mean field approximation is that each individual $Q_i(x_i^{(t)})$ is independent from the other $Q_i(x_i^{(t)})$'s. (Otherwise, we could not just factorize the separate the $Q_i(x_i^{(t)})$'s.) We do this, to make the calculations tractable.\n",
    "\n",
    "$Eq. 1$:\n",
    "$$Q(x^{(t)}| x^{(t-T)}, ... , x^{(t-1)}) = \\prod_{i \\in V}  Q_i(x_i^{(t)})$$\n",
    "\n",
    "\n",
    "However, this assumption is also a shortcoming as the different $Q_i(x_i^{(t)})$'s are clearly not totally independent from each other. If they would be, conditional random fields would not look like the first picture below but more like the second picture below.\n",
    "\n",
    "\n",
    "<img src=http://i65.tinypic.com/23t17kl.jpg width=\"250\">\n",
    "\n",
    "<img src=http://i67.tinypic.com/537jo8.jpg width=\"250\">\n",
    "\n",
    "\n",
    "\n",
    "## Proof: iterative update equation is differentiable"
   ]
  },
  {
   "cell_type": "code",
   "execution_count": null,
   "metadata": {},
   "outputs": [],
   "source": []
  }
 ],
 "metadata": {
  "colab": {
   "name": "weeks_4_and_5_assignment.ipynb",
   "provenance": [],
   "version": "0.3.2"
  },
  "kernelspec": {
   "display_name": "Python 3",
   "language": "python",
   "name": "python3"
  },
  "language_info": {
   "codemirror_mode": {
    "name": "ipython",
    "version": 3
   },
   "file_extension": ".py",
   "mimetype": "text/x-python",
   "name": "python",
   "nbconvert_exporter": "python",
   "pygments_lexer": "ipython3",
   "version": "3.6.5"
  }
 },
 "nbformat": 4,
 "nbformat_minor": 2
}
